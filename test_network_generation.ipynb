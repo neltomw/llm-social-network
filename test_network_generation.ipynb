{
 "cells": [
  {
   "cell_type": "code",
   "execution_count": 1,
   "metadata": {},
   "outputs": [],
   "source": [
    "%load_ext autoreload\n",
    "%autoreload 2\n",
    "\n",
    "from generate_networks import *\n",
    "from constants_and_utils import *\n",
    "from analyze_networks import *\n",
    "from plotting import *\n",
    "\n",
    "import matplotlib.pyplot as plt"
   ]
  },
  {
   "cell_type": "code",
   "execution_count": 2,
   "metadata": {},
   "outputs": [
    {
     "data": {
      "text/plain": [
       "{'1': {'age': 46,\n",
       "  'gender': 'Woman',\n",
       "  'religion': 'Protestant',\n",
       "  'political affiliation': 'Democrat',\n",
       "  'race/ethnicity': 'White'},\n",
       " '2': {'age': 29,\n",
       "  'gender': 'Man',\n",
       "  'religion': 'Catholic',\n",
       "  'political affiliation': 'Independent',\n",
       "  'race/ethnicity': 'Latino'},\n",
       " '3': {'age': 66,\n",
       "  'gender': 'Man',\n",
       "  'religion': 'Catholic',\n",
       "  'political affiliation': 'Republican',\n",
       "  'race/ethnicity': 'Latino'},\n",
       " '4': {'age': 38,\n",
       "  'gender': 'Man',\n",
       "  'religion': 'Catholic',\n",
       "  'political affiliation': 'Democrat',\n",
       "  'race/ethnicity': 'Latino'},\n",
       " '5': {'age': 65,\n",
       "  'gender': 'Woman',\n",
       "  'religion': 'Protestant',\n",
       "  'political affiliation': 'Republican',\n",
       "  'race/ethnicity': 'White'},\n",
       " '6': {'age': 42,\n",
       "  'gender': 'Woman',\n",
       "  'religion': 'Protestant',\n",
       "  'political affiliation': 'Republican',\n",
       "  'race/ethnicity': 'White'},\n",
       " '7': {'age': 36,\n",
       "  'gender': 'Woman',\n",
       "  'religion': 'Unreligious',\n",
       "  'political affiliation': 'Democrat',\n",
       "  'race/ethnicity': 'Latino'},\n",
       " '8': {'age': 41,\n",
       "  'gender': 'Woman',\n",
       "  'religion': 'Hindu',\n",
       "  'political affiliation': 'Independent',\n",
       "  'race/ethnicity': 'Asian'},\n",
       " '9': {'age': 39,\n",
       "  'gender': 'Woman',\n",
       "  'religion': 'Unreligious',\n",
       "  'political affiliation': 'Republican',\n",
       "  'race/ethnicity': 'White'},\n",
       " '10': {'age': 26,\n",
       "  'gender': 'Woman',\n",
       "  'religion': 'Protestant',\n",
       "  'political affiliation': 'Democrat',\n",
       "  'race/ethnicity': 'Black'},\n",
       " '11': {'age': 26,\n",
       "  'gender': 'Man',\n",
       "  'religion': 'Protestant',\n",
       "  'political affiliation': 'Democrat',\n",
       "  'race/ethnicity': 'Black'},\n",
       " '12': {'age': 56,\n",
       "  'gender': 'Woman',\n",
       "  'religion': 'Protestant',\n",
       "  'political affiliation': 'Democrat',\n",
       "  'race/ethnicity': 'White'},\n",
       " '13': {'age': 63,\n",
       "  'gender': 'Woman',\n",
       "  'religion': 'Catholic',\n",
       "  'political affiliation': 'Democrat',\n",
       "  'race/ethnicity': 'Latino'},\n",
       " '14': {'age': 30,\n",
       "  'gender': 'Woman',\n",
       "  'religion': 'Unreligious',\n",
       "  'political affiliation': 'Republican',\n",
       "  'race/ethnicity': 'White'},\n",
       " '15': {'age': 23,\n",
       "  'gender': 'Man',\n",
       "  'religion': 'Unreligious',\n",
       "  'political affiliation': 'Democrat',\n",
       "  'race/ethnicity': 'Black'},\n",
       " '16': {'age': 35,\n",
       "  'gender': 'Woman',\n",
       "  'religion': 'Protestant',\n",
       "  'political affiliation': 'Republican',\n",
       "  'race/ethnicity': 'White'},\n",
       " '17': {'age': 29,\n",
       "  'gender': 'Man',\n",
       "  'religion': 'Unreligious',\n",
       "  'political affiliation': 'Independent',\n",
       "  'race/ethnicity': 'Native American/Alaska Native'},\n",
       " '18': {'age': 75,\n",
       "  'gender': 'Woman',\n",
       "  'religion': 'Protestant',\n",
       "  'political affiliation': 'Republican',\n",
       "  'race/ethnicity': 'White'},\n",
       " '19': {'age': 64,\n",
       "  'gender': 'Woman',\n",
       "  'religion': 'Protestant',\n",
       "  'political affiliation': 'Democrat',\n",
       "  'race/ethnicity': 'White'},\n",
       " '20': {'age': 70,\n",
       "  'gender': 'Woman',\n",
       "  'religion': 'Unreligious',\n",
       "  'political affiliation': 'Democrat',\n",
       "  'race/ethnicity': 'White'},\n",
       " '21': {'age': 34,\n",
       "  'gender': 'Woman',\n",
       "  'religion': 'Unreligious',\n",
       "  'political affiliation': 'Republican',\n",
       "  'race/ethnicity': 'White'},\n",
       " '22': {'age': 47,\n",
       "  'gender': 'Man',\n",
       "  'religion': 'Protestant',\n",
       "  'political affiliation': 'Democrat',\n",
       "  'race/ethnicity': 'White'},\n",
       " '23': {'age': 55,\n",
       "  'gender': 'Woman',\n",
       "  'religion': 'Protestant',\n",
       "  'political affiliation': 'Democrat',\n",
       "  'race/ethnicity': 'White'},\n",
       " '24': {'age': 68,\n",
       "  'gender': 'Woman',\n",
       "  'religion': 'Protestant',\n",
       "  'political affiliation': 'Independent',\n",
       "  'race/ethnicity': 'White'},\n",
       " '25': {'age': 77,\n",
       "  'gender': 'Woman',\n",
       "  'religion': 'Protestant',\n",
       "  'political affiliation': 'Republican',\n",
       "  'race/ethnicity': 'White'},\n",
       " '26': {'age': 35,\n",
       "  'gender': 'Woman',\n",
       "  'religion': 'Protestant',\n",
       "  'political affiliation': 'Independent',\n",
       "  'race/ethnicity': 'White'},\n",
       " '27': {'age': 60,\n",
       "  'gender': 'Woman',\n",
       "  'religion': 'Unreligious',\n",
       "  'political affiliation': 'Republican',\n",
       "  'race/ethnicity': 'White'},\n",
       " '28': {'age': 27,\n",
       "  'gender': 'Man',\n",
       "  'religion': 'Protestant',\n",
       "  'political affiliation': 'Republican',\n",
       "  'race/ethnicity': 'White'},\n",
       " '29': {'age': 22,\n",
       "  'gender': 'Woman',\n",
       "  'religion': 'Catholic',\n",
       "  'political affiliation': 'Democrat',\n",
       "  'race/ethnicity': 'Latino'},\n",
       " '30': {'age': 40,\n",
       "  'gender': 'Man',\n",
       "  'religion': 'Protestant',\n",
       "  'political affiliation': 'Independent',\n",
       "  'race/ethnicity': 'White'},\n",
       " '31': {'age': 67,\n",
       "  'gender': 'Woman',\n",
       "  'religion': 'Unreligious',\n",
       "  'political affiliation': 'Independent',\n",
       "  'race/ethnicity': 'Asian'},\n",
       " '32': {'age': 43,\n",
       "  'gender': 'Man',\n",
       "  'religion': 'Catholic',\n",
       "  'political affiliation': 'Republican',\n",
       "  'race/ethnicity': 'Latino'},\n",
       " '33': {'age': 60,\n",
       "  'gender': 'Woman',\n",
       "  'religion': 'Protestant',\n",
       "  'political affiliation': 'Democrat',\n",
       "  'race/ethnicity': 'Black'},\n",
       " '34': {'age': 76,\n",
       "  'gender': 'Woman',\n",
       "  'religion': 'Unreligious',\n",
       "  'political affiliation': 'Democrat',\n",
       "  'race/ethnicity': 'Black'},\n",
       " '35': {'age': 50,\n",
       "  'gender': 'Man',\n",
       "  'religion': 'Catholic',\n",
       "  'political affiliation': 'Democrat',\n",
       "  'race/ethnicity': 'Latino'},\n",
       " '36': {'age': 38,\n",
       "  'gender': 'Man',\n",
       "  'religion': 'Protestant',\n",
       "  'political affiliation': 'Republican',\n",
       "  'race/ethnicity': 'White'},\n",
       " '37': {'age': 26,\n",
       "  'gender': 'Woman',\n",
       "  'religion': 'Catholic',\n",
       "  'political affiliation': 'Republican',\n",
       "  'race/ethnicity': 'Latino'},\n",
       " '38': {'age': 54,\n",
       "  'gender': 'Woman',\n",
       "  'religion': 'Hindu',\n",
       "  'political affiliation': 'Independent',\n",
       "  'race/ethnicity': 'Asian'},\n",
       " '39': {'age': 60,\n",
       "  'gender': 'Woman',\n",
       "  'religion': 'Unreligious',\n",
       "  'political affiliation': 'Democrat',\n",
       "  'race/ethnicity': 'White'},\n",
       " '40': {'age': 67,\n",
       "  'gender': 'Woman',\n",
       "  'religion': 'Catholic',\n",
       "  'political affiliation': 'Republican',\n",
       "  'race/ethnicity': 'White'},\n",
       " '41': {'age': 63,\n",
       "  'gender': 'Man',\n",
       "  'religion': 'Unreligious',\n",
       "  'political affiliation': 'Democrat',\n",
       "  'race/ethnicity': 'White'},\n",
       " '42': {'age': 29,\n",
       "  'gender': 'Man',\n",
       "  'religion': 'Catholic',\n",
       "  'political affiliation': 'Republican',\n",
       "  'race/ethnicity': 'Latino'},\n",
       " '43': {'age': 18,\n",
       "  'gender': 'Man',\n",
       "  'religion': 'Protestant',\n",
       "  'political affiliation': 'Republican',\n",
       "  'race/ethnicity': 'White'},\n",
       " '44': {'age': 50,\n",
       "  'gender': 'Woman',\n",
       "  'religion': 'Catholic',\n",
       "  'political affiliation': 'Democrat',\n",
       "  'race/ethnicity': 'Latino'},\n",
       " '45': {'age': 48,\n",
       "  'gender': 'Woman',\n",
       "  'religion': 'Protestant',\n",
       "  'political affiliation': 'Republican',\n",
       "  'race/ethnicity': 'White'},\n",
       " '46': {'age': 46,\n",
       "  'gender': 'Man',\n",
       "  'religion': 'Unreligious',\n",
       "  'political affiliation': 'Democrat',\n",
       "  'race/ethnicity': 'Black'},\n",
       " '47': {'age': 58,\n",
       "  'gender': 'Man',\n",
       "  'religion': 'Unreligious',\n",
       "  'political affiliation': 'Democrat',\n",
       "  'race/ethnicity': 'Black'},\n",
       " '48': {'age': 24,\n",
       "  'gender': 'Woman',\n",
       "  'religion': 'Catholic',\n",
       "  'political affiliation': 'Democrat',\n",
       "  'race/ethnicity': 'Latino'},\n",
       " '49': {'age': 64,\n",
       "  'gender': 'Woman',\n",
       "  'religion': 'Unreligious',\n",
       "  'political affiliation': 'Democrat',\n",
       "  'race/ethnicity': 'Latino'},\n",
       " '50': {'age': 73,\n",
       "  'gender': 'Man',\n",
       "  'religion': 'Protestant',\n",
       "  'political affiliation': 'Democrat',\n",
       "  'race/ethnicity': 'Black'}}"
      ]
     },
     "execution_count": 2,
     "metadata": {},
     "output_type": "execute_result"
    }
   ],
   "source": [
    "persona_fn = 'us_50.json'\n",
    "fn = os.path.join(PATH_TO_TEXT_FILES, persona_fn)\n",
    "with open(fn) as f:\n",
    "    personas = json.load(f)\n",
    "personas"
   ]
  },
  {
   "cell_type": "code",
   "execution_count": 3,
   "metadata": {},
   "outputs": [
    {
     "data": {
      "text/plain": [
       "'ID. Name - Gender, Age, Race/ethnicity, Religion, Political affiliation'"
      ]
     },
     "execution_count": 3,
     "metadata": {},
     "output_type": "execute_result"
    }
   ],
   "source": [
    "demos_to_include = ['name', 'gender', 'age', 'race/ethnicity', 'religion', 'political affiliation']\n",
    "get_persona_format(demos_to_include)"
   ]
  },
  {
   "cell_type": "code",
   "execution_count": 4,
   "metadata": {},
   "outputs": [
    {
     "data": {
      "text/plain": [
       "'ID. Gender, Age, Race/ethnicity, Religion, Political affiliation'"
      ]
     },
     "execution_count": 4,
     "metadata": {},
     "output_type": "execute_result"
    }
   ],
   "source": [
    "demos_to_include = ['gender', 'age', 'race/ethnicity', 'religion', 'political affiliation']\n",
    "get_persona_format(demos_to_include)"
   ]
  },
  {
   "cell_type": "code",
   "execution_count": 5,
   "metadata": {},
   "outputs": [
    {
     "data": {
      "text/plain": [
       "'1. Woman, age 46, White, Protestant, Democrat'"
      ]
     },
     "execution_count": 5,
     "metadata": {},
     "output_type": "execute_result"
    }
   ],
   "source": [
    "persona = personas['1']\n",
    "convert_persona_to_string(persona, demos_to_include, pid=1)"
   ]
  },
  {
   "cell_type": "code",
   "execution_count": 6,
   "metadata": {},
   "outputs": [
    {
     "name": "stdout",
     "output_type": "stream",
     "text": [
      "Your task is to create a realistic social network. You will be provided a list of people in the network, where each person is described as \"ID. Gender, Age, Race/ethnicity, Religion, Political affiliation\". Provide a list of friendship pairs in the format <ID>, <ID> with each pair separated by a newline. Do not include any other text in your response. Do not include any people who are not listed below.\n"
     ]
    }
   ],
   "source": [
    "sys_prompt = get_system_prompt('global', personas, demos_to_include)\n",
    "print(sys_prompt)"
   ]
  },
  {
   "cell_type": "code",
   "execution_count": 7,
   "metadata": {},
   "outputs": [
    {
     "data": {
      "text/plain": [
       "array(['29', '12', '11', '42', '3', '28', '39', '32', '23', '5', '34',\n",
       "       '36', '27', '35', '19', '8', '15', '46', '49', '30', '16', '31',\n",
       "       '33', '17', '43', '21', '44', '9', '14', '26', '6', '18', '41',\n",
       "       '50', '2', '13', '38', '25', '7', '24', '37', '22', '20', '10',\n",
       "       '40', '47', '4', '1', '48', '45'], dtype='<U2')"
      ]
     },
     "execution_count": 7,
     "metadata": {},
     "output_type": "execute_result"
    }
   ],
   "source": [
    "np.random.seed(0)\n",
    "pids = list(personas.keys())\n",
    "order = np.random.choice(pids, size=len(pids), replace=False)  # order of printing personas\n",
    "order"
   ]
  },
  {
   "cell_type": "code",
   "execution_count": 8,
   "metadata": {
    "scrolled": true
   },
   "outputs": [
    {
     "name": "stdout",
     "output_type": "stream",
     "text": [
      "29. Woman, age 22, Latino, Catholic, Democrat\n",
      "12. Woman, age 56, White, Protestant, Democrat\n",
      "11. Man, age 26, Black, Protestant, Democrat\n",
      "42. Man, age 29, Latino, Catholic, Republican\n",
      "3. Man, age 66, Latino, Catholic, Republican\n",
      "28. Man, age 27, White, Protestant, Republican\n",
      "39. Woman, age 60, White, Unreligious, Democrat\n",
      "32. Man, age 43, Latino, Catholic, Republican\n",
      "23. Woman, age 55, White, Protestant, Democrat\n",
      "5. Woman, age 65, White, Protestant, Republican\n",
      "34. Woman, age 76, Black, Unreligious, Democrat\n",
      "36. Man, age 38, White, Protestant, Republican\n",
      "27. Woman, age 60, White, Unreligious, Republican\n",
      "35. Man, age 50, Latino, Catholic, Democrat\n",
      "19. Woman, age 64, White, Protestant, Democrat\n",
      "8. Woman, age 41, Asian, Hindu, Independent\n",
      "15. Man, age 23, Black, Unreligious, Democrat\n",
      "46. Man, age 46, Black, Unreligious, Democrat\n",
      "49. Woman, age 64, Latino, Unreligious, Democrat\n",
      "30. Man, age 40, White, Protestant, Independent\n",
      "16. Woman, age 35, White, Protestant, Republican\n",
      "31. Woman, age 67, Asian, Unreligious, Independent\n",
      "33. Woman, age 60, Black, Protestant, Democrat\n",
      "17. Man, age 29, Native American/Alaska Native, Unreligious, Independent\n",
      "43. Man, age 18, White, Protestant, Republican\n",
      "21. Woman, age 34, White, Unreligious, Republican\n",
      "44. Woman, age 50, Latino, Catholic, Democrat\n",
      "9. Woman, age 39, White, Unreligious, Republican\n",
      "14. Woman, age 30, White, Unreligious, Republican\n",
      "26. Woman, age 35, White, Protestant, Independent\n",
      "6. Woman, age 42, White, Protestant, Republican\n",
      "18. Woman, age 75, White, Protestant, Republican\n",
      "41. Man, age 63, White, Unreligious, Democrat\n",
      "50. Man, age 73, Black, Protestant, Democrat\n",
      "2. Man, age 29, Latino, Catholic, Independent\n",
      "13. Woman, age 63, Latino, Catholic, Democrat\n",
      "38. Woman, age 54, Asian, Hindu, Independent\n",
      "25. Woman, age 77, White, Protestant, Republican\n",
      "7. Woman, age 36, Latino, Unreligious, Democrat\n",
      "24. Woman, age 68, White, Protestant, Independent\n",
      "37. Woman, age 26, Latino, Catholic, Republican\n",
      "22. Man, age 47, White, Protestant, Democrat\n",
      "20. Woman, age 70, White, Unreligious, Democrat\n",
      "10. Woman, age 26, Black, Protestant, Democrat\n",
      "40. Woman, age 67, White, Catholic, Republican\n",
      "47. Man, age 58, Black, Unreligious, Democrat\n",
      "4. Man, age 38, Latino, Catholic, Democrat\n",
      "1. Woman, age 46, White, Protestant, Democrat\n",
      "48. Woman, age 24, Latino, Catholic, Democrat\n",
      "45. Woman, age 48, White, Protestant, Republican\n"
     ]
    }
   ],
   "source": [
    "user_prompt = get_user_prompt('global', personas, order, demos_to_include)\n",
    "print(user_prompt)"
   ]
  },
  {
   "cell_type": "code",
   "execution_count": 9,
   "metadata": {},
   "outputs": [
    {
     "data": {
      "text/plain": [
       "{'age': 22,\n",
       " 'gender': 'Woman',\n",
       " 'religion': 'Catholic',\n",
       " 'political affiliation': 'Democrat',\n",
       " 'race/ethnicity': 'Latino'}"
      ]
     },
     "execution_count": 9,
     "metadata": {},
     "output_type": "execute_result"
    }
   ],
   "source": [
    "personas['29']"
   ]
  },
  {
   "cell_type": "code",
   "execution_count": 12,
   "metadata": {
    "scrolled": true
   },
   "outputs": [
    {
     "name": "stdout",
     "output_type": "stream",
     "text": [
      "SYSTEM:\n",
      "Your task is to create a realistic social network. You will be provided a list of people in the network, where each person is described as \"ID. Gender, Age, Race/ethnicity, Religion, Political affiliation\". Provide a list of friendship pairs in the format <ID>, <ID> with each pair separated by a newline. Do not include any other text in your response. Do not include any people who are not listed below.\n",
      "\n",
      "USER:\n",
      "29. Woman, 22, Latino, Catholic, Democrat\n",
      "12. Woman, 56, White, Protestant, Democrat\n",
      "11. Man, 26, Black, Protestant, Democrat\n",
      "42. Man, 29, Latino, Catholic, Republican\n",
      "3. Man, 66, Latino, Catholic, Republican\n",
      "28. Man, 27, White, Protestant, Republican\n",
      "39. Woman, 60, White, Unreligious, Democrat\n",
      "32. Man, 43, Latino, Catholic, Republican\n",
      "23. Woman, 55, White, Protestant, Democrat\n",
      "5. Woman, 65, White, Protestant, Republican\n",
      "34. Woman, 76, Black, Unreligious, Democrat\n",
      "36. Man, 38, White, Protestant, Republican\n",
      "27. Woman, 60, White, Unreligious, Republican\n",
      "35. Man, 50, Latino, Catholic, Democrat\n",
      "19. Woman, 64, White, Protestant, Democrat\n",
      "8. Woman, 41, Asian, Hindu, Independent\n",
      "15. Man, 23, Black, Unreligious, Democrat\n",
      "46. Man, 46, Black, Unreligious, Democrat\n",
      "49. Woman, 64, Latino, Unreligious, Democrat\n",
      "30. Man, 40, White, Protestant, Independent\n",
      "16. Woman, 35, White, Protestant, Republican\n",
      "31. Woman, 67, Asian, Unreligious, Independent\n",
      "33. Woman, 60, Black, Protestant, Democrat\n",
      "17. Man, 29, Native American/Alaska Native, Unreligious, Independent\n",
      "43. Man, 18, White, Protestant, Republican\n",
      "21. Woman, 34, White, Unreligious, Republican\n",
      "44. Woman, 50, Latino, Catholic, Democrat\n",
      "9. Woman, 39, White, Unreligious, Republican\n",
      "14. Woman, 30, White, Unreligious, Republican\n",
      "26. Woman, 35, White, Protestant, Independent\n",
      "6. Woman, 42, White, Protestant, Republican\n",
      "18. Woman, 75, White, Protestant, Republican\n",
      "41. Man, 63, White, Unreligious, Democrat\n",
      "50. Man, 73, Black, Protestant, Democrat\n",
      "2. Man, 29, Latino, Catholic, Independent\n",
      "13. Woman, 63, Latino, Catholic, Democrat\n",
      "38. Woman, 54, Asian, Hindu, Independent\n",
      "25. Woman, 77, White, Protestant, Republican\n",
      "7. Woman, 36, Latino, Unreligious, Democrat\n",
      "24. Woman, 68, White, Protestant, Independent\n",
      "37. Woman, 26, Latino, Catholic, Republican\n",
      "22. Man, 47, White, Protestant, Democrat\n",
      "20. Woman, 70, White, Unreligious, Democrat\n",
      "10. Woman, 26, Black, Protestant, Democrat\n",
      "40. Woman, 67, White, Catholic, Republican\n",
      "47. Man, 58, Black, Unreligious, Democrat\n",
      "4. Man, 38, Latino, Catholic, Democrat\n",
      "1. Woman, 46, White, Protestant, Democrat\n",
      "48. Woman, 24, Latino, Catholic, Democrat\n",
      "45. Woman, 48, White, Protestant, Republican\n",
      "\n",
      "RESPONSE:\n",
      "29, 12\n",
      "29, 11\n",
      "29, 5\n",
      "12, 23\n",
      "12, 34\n",
      "11, 34\n",
      "42, 35\n",
      "3, 42\n",
      "28, 36\n",
      "39, 27\n",
      "32, 43\n",
      "23, 16\n",
      "5, 36\n",
      "34, 47\n",
      "36, 6\n",
      "27, 18\n",
      "35, 4\n",
      "19, 33\n",
      "15, 46\n",
      "46, 50\n",
      "49, 40\n",
      "30, 6\n",
      "16, 21\n",
      "31, 24\n",
      "33, 10\n",
      "17, 2\n",
      "43, 37\n",
      "44, 48\n",
      "9, 14\n",
      "14, 26\n",
      "26, 41\n",
      "6, 18\n",
      "18, 25\n",
      "41, 20\n",
      "50, 47\n",
      "2, 4\n",
      "38, 31\n",
      "7, 10\n",
      "24, 20\n",
      "37, 43\n",
      "22, 1\n",
      "20, 45\n"
     ]
    }
   ],
   "source": [
    "model = 'gpt-3.5-turbo'\n",
    "G = nx.Graph()\n",
    "G.add_nodes_from(order)\n",
    "response = get_gpt_response(model, sys_prompt, user_prompt, verbose=True)\n",
    "G = update_graph_from_response('global', response, G)"
   ]
  },
  {
   "cell_type": "code",
   "execution_count": 13,
   "metadata": {},
   "outputs": [
    {
     "name": "stdout",
     "output_type": "stream",
     "text": [
      "41\n"
     ]
    },
    {
     "data": {
      "image/png": "[encoded data removed]",
      "text/plain": [
       "<Figure size 432x288 with 1 Axes>"
      ]
     },
     "metadata": {},
     "output_type": "display_data"
    }
   ],
   "source": [
    "print(len(G.edges()))\n",
    "nx.draw_networkx(G, pos=nx.spring_layout(G, seed=0, k=2*1/np.sqrt(len(G.nodes()))))\n",
    "plt.axis(\"off\")  # turn off axis\n",
    "axis = plt.gca()\n",
    "axis.set_xlim([1.1*x for x in axis.get_xlim()])  # add padding so that node labels aren't cut off\n",
    "axis.set_ylim([1.1*y for y in axis.get_ylim()])\n",
    "plt.tight_layout()\n",
    "plt.show()"
   ]
  },
  {
   "cell_type": "code",
   "execution_count": 14,
   "metadata": {},
   "outputs": [
    {
     "name": "stdout",
     "output_type": "stream",
     "text": [
      "You are a Woman, 22, Latino, Catholic, Democrat. You are joining a social network.\n",
      "\n",
      "You will be provided a list of people in the network, where each person is described as \"ID. Gender, Age, Race/ethnicity, Religion, Political affiliation\".\n",
      "\n",
      "Which of these people will you become friends with? Provide a list of friends in the format <ID>, <ID>, <ID>, etc. Do not include any other text in your response. Do not include any people who are not listed below.\n"
     ]
    }
   ],
   "source": [
    "sys_prompt = get_system_prompt('local', personas, demos_to_include, curr_pid=order[0])\n",
    "print(sys_prompt)"
   ]
  },
  {
   "cell_type": "code",
   "execution_count": 15,
   "metadata": {
    "scrolled": true
   },
   "outputs": [
    {
     "name": "stdout",
     "output_type": "stream",
     "text": [
      "12. Woman, 56, White, Protestant, Democrat\n",
      "11. Man, 26, Black, Protestant, Democrat\n",
      "42. Man, 29, Latino, Catholic, Republican\n",
      "3. Man, 66, Latino, Catholic, Republican\n",
      "28. Man, 27, White, Protestant, Republican\n",
      "39. Woman, 60, White, Unreligious, Democrat\n",
      "32. Man, 43, Latino, Catholic, Republican\n",
      "23. Woman, 55, White, Protestant, Democrat\n",
      "5. Woman, 65, White, Protestant, Republican\n",
      "34. Woman, 76, Black, Unreligious, Democrat\n",
      "36. Man, 38, White, Protestant, Republican\n",
      "27. Woman, 60, White, Unreligious, Republican\n",
      "35. Man, 50, Latino, Catholic, Democrat\n",
      "19. Woman, 64, White, Protestant, Democrat\n",
      "8. Woman, 41, Asian, Hindu, Independent\n",
      "15. Man, 23, Black, Unreligious, Democrat\n",
      "46. Man, 46, Black, Unreligious, Democrat\n",
      "49. Woman, 64, Latino, Unreligious, Democrat\n",
      "30. Man, 40, White, Protestant, Independent\n",
      "16. Woman, 35, White, Protestant, Republican\n",
      "31. Woman, 67, Asian, Unreligious, Independent\n",
      "33. Woman, 60, Black, Protestant, Democrat\n",
      "17. Man, 29, Native American/Alaska Native, Unreligious, Independent\n",
      "43. Man, 18, White, Protestant, Republican\n",
      "21. Woman, 34, White, Unreligious, Republican\n",
      "44. Woman, 50, Latino, Catholic, Democrat\n",
      "9. Woman, 39, White, Unreligious, Republican\n",
      "14. Woman, 30, White, Unreligious, Republican\n",
      "26. Woman, 35, White, Protestant, Independent\n",
      "6. Woman, 42, White, Protestant, Republican\n",
      "18. Woman, 75, White, Protestant, Republican\n",
      "41. Man, 63, White, Unreligious, Democrat\n",
      "50. Man, 73, Black, Protestant, Democrat\n",
      "2. Man, 29, Latino, Catholic, Independent\n",
      "13. Woman, 63, Latino, Catholic, Democrat\n",
      "38. Woman, 54, Asian, Hindu, Independent\n",
      "25. Woman, 77, White, Protestant, Republican\n",
      "7. Woman, 36, Latino, Unreligious, Democrat\n",
      "24. Woman, 68, White, Protestant, Independent\n",
      "37. Woman, 26, Latino, Catholic, Republican\n",
      "22. Man, 47, White, Protestant, Democrat\n",
      "20. Woman, 70, White, Unreligious, Democrat\n",
      "10. Woman, 26, Black, Protestant, Democrat\n",
      "40. Woman, 67, White, Catholic, Republican\n",
      "47. Man, 58, Black, Unreligious, Democrat\n",
      "4. Man, 38, Latino, Catholic, Democrat\n",
      "1. Woman, 46, White, Protestant, Democrat\n",
      "48. Woman, 24, Latino, Catholic, Democrat\n",
      "45. Woman, 48, White, Protestant, Republican\n"
     ]
    }
   ],
   "source": [
    "user_prompt = get_user_prompt('local', personas, order, demos_to_include, curr_pid=order[0])\n",
    "print(user_prompt)"
   ]
  },
  {
   "cell_type": "code",
   "execution_count": 16,
   "metadata": {
    "scrolled": true
   },
   "outputs": [
    {
     "name": "stdout",
     "output_type": "stream",
     "text": [
      "SYSTEM:\n",
      "You are a Woman, 22, Latino, Catholic, Democrat. You are joining a social network.\n",
      "\n",
      "You will be provided a list of people in the network, where each person is described as \"ID. Gender, Age, Race/ethnicity, Religion, Political affiliation\".\n",
      "\n",
      "Which of these people will you become friends with? Provide a list of friends in the format <ID>, <ID>, <ID>, etc. Do not include any other text in your response. Do not include any people who are not listed below.\n",
      "\n",
      "USER:\n",
      "12. Woman, 56, White, Protestant, Democrat\n",
      "11. Man, 26, Black, Protestant, Democrat\n",
      "42. Man, 29, Latino, Catholic, Republican\n",
      "3. Man, 66, Latino, Catholic, Republican\n",
      "28. Man, 27, White, Protestant, Republican\n",
      "39. Woman, 60, White, Unreligious, Democrat\n",
      "32. Man, 43, Latino, Catholic, Republican\n",
      "23. Woman, 55, White, Protestant, Democrat\n",
      "5. Woman, 65, White, Protestant, Republican\n",
      "34. Woman, 76, Black, Unreligious, Democrat\n",
      "36. Man, 38, White, Protestant, Republican\n",
      "27. Woman, 60, White, Unreligious, Republican\n",
      "35. Man, 50, Latino, Catholic, Democrat\n",
      "19. Woman, 64, White, Protestant, Democrat\n",
      "8. Woman, 41, Asian, Hindu, Independent\n",
      "15. Man, 23, Black, Unreligious, Democrat\n",
      "46. Man, 46, Black, Unreligious, Democrat\n",
      "49. Woman, 64, Latino, Unreligious, Democrat\n",
      "30. Man, 40, White, Protestant, Independent\n",
      "16. Woman, 35, White, Protestant, Republican\n",
      "31. Woman, 67, Asian, Unreligious, Independent\n",
      "33. Woman, 60, Black, Protestant, Democrat\n",
      "17. Man, 29, Native American/Alaska Native, Unreligious, Independent\n",
      "43. Man, 18, White, Protestant, Republican\n",
      "21. Woman, 34, White, Unreligious, Republican\n",
      "44. Woman, 50, Latino, Catholic, Democrat\n",
      "9. Woman, 39, White, Unreligious, Republican\n",
      "14. Woman, 30, White, Unreligious, Republican\n",
      "26. Woman, 35, White, Protestant, Independent\n",
      "6. Woman, 42, White, Protestant, Republican\n",
      "18. Woman, 75, White, Protestant, Republican\n",
      "41. Man, 63, White, Unreligious, Democrat\n",
      "50. Man, 73, Black, Protestant, Democrat\n",
      "2. Man, 29, Latino, Catholic, Independent\n",
      "13. Woman, 63, Latino, Catholic, Democrat\n",
      "38. Woman, 54, Asian, Hindu, Independent\n",
      "25. Woman, 77, White, Protestant, Republican\n",
      "7. Woman, 36, Latino, Unreligious, Democrat\n",
      "24. Woman, 68, White, Protestant, Independent\n",
      "37. Woman, 26, Latino, Catholic, Republican\n",
      "22. Man, 47, White, Protestant, Democrat\n",
      "20. Woman, 70, White, Unreligious, Democrat\n",
      "10. Woman, 26, Black, Protestant, Democrat\n",
      "40. Woman, 67, White, Catholic, Republican\n",
      "47. Man, 58, Black, Unreligious, Democrat\n",
      "4. Man, 38, Latino, Catholic, Democrat\n",
      "1. Woman, 46, White, Protestant, Democrat\n",
      "48. Woman, 24, Latino, Catholic, Democrat\n",
      "45. Woman, 48, White, Protestant, Republican\n",
      "\n",
      "RESPONSE:\n",
      "13, 4, 44, 48\n"
     ]
    }
   ],
   "source": [
    "G = nx.Graph()\n",
    "G.add_nodes_from(order)\n",
    "response = get_gpt_response(model, sys_prompt, user_prompt, verbose=True)\n",
    "G = update_graph_from_response('local', response, G, curr_pid=order[0])"
   ]
  },
  {
   "cell_type": "code",
   "execution_count": 17,
   "metadata": {},
   "outputs": [
    {
     "data": {
      "text/plain": [
       "EdgeView([('29', '44'), ('29', '13'), ('29', '48'), ('29', '4')])"
      ]
     },
     "execution_count": 17,
     "metadata": {},
     "output_type": "execute_result"
    }
   ],
   "source": [
    "G.edges()"
   ]
  },
  {
   "cell_type": "code",
   "execution_count": 18,
   "metadata": {},
   "outputs": [
    {
     "name": "stdout",
     "output_type": "stream",
     "text": [
      "You are a Woman, 56, White, Protestant, Democrat. You are joining a social network.\n",
      "\n",
      "You will be provided a list of people in the network, where each person is described as \"ID. Gender, Age, Race/ethnicity, Religion, Political affiliation\". You will also be provided a list of existing friendship pairs in the network, in the format <ID>, <ID> with each pair separated by a newline.\n",
      "\n",
      "Which of these people will you become friends with? Provide a list of *YOUR* friends in the format <ID>, <ID>, <ID>, etc. Do not include any other text in your response. Do not include any people who are not listed below.\n"
     ]
    }
   ],
   "source": [
    "# use NEXT persona, keep graph\n",
    "sys_prompt = get_system_prompt('sequential', personas, demos_to_include, curr_pid=order[1])\n",
    "print(sys_prompt)"
   ]
  },
  {
   "cell_type": "code",
   "execution_count": 19,
   "metadata": {
    "scrolled": true
   },
   "outputs": [
    {
     "name": "stdout",
     "output_type": "stream",
     "text": [
      "People\n",
      "29. Woman, 22, Latino, Catholic, Democrat\n",
      "11. Man, 26, Black, Protestant, Democrat\n",
      "42. Man, 29, Latino, Catholic, Republican\n",
      "3. Man, 66, Latino, Catholic, Republican\n",
      "28. Man, 27, White, Protestant, Republican\n",
      "39. Woman, 60, White, Unreligious, Democrat\n",
      "32. Man, 43, Latino, Catholic, Republican\n",
      "23. Woman, 55, White, Protestant, Democrat\n",
      "5. Woman, 65, White, Protestant, Republican\n",
      "34. Woman, 76, Black, Unreligious, Democrat\n",
      "36. Man, 38, White, Protestant, Republican\n",
      "27. Woman, 60, White, Unreligious, Republican\n",
      "35. Man, 50, Latino, Catholic, Democrat\n",
      "19. Woman, 64, White, Protestant, Democrat\n",
      "8. Woman, 41, Asian, Hindu, Independent\n",
      "15. Man, 23, Black, Unreligious, Democrat\n",
      "46. Man, 46, Black, Unreligious, Democrat\n",
      "49. Woman, 64, Latino, Unreligious, Democrat\n",
      "30. Man, 40, White, Protestant, Independent\n",
      "16. Woman, 35, White, Protestant, Republican\n",
      "31. Woman, 67, Asian, Unreligious, Independent\n",
      "33. Woman, 60, Black, Protestant, Democrat\n",
      "17. Man, 29, Native American/Alaska Native, Unreligious, Independent\n",
      "43. Man, 18, White, Protestant, Republican\n",
      "21. Woman, 34, White, Unreligious, Republican\n",
      "44. Woman, 50, Latino, Catholic, Democrat\n",
      "9. Woman, 39, White, Unreligious, Republican\n",
      "14. Woman, 30, White, Unreligious, Republican\n",
      "26. Woman, 35, White, Protestant, Independent\n",
      "6. Woman, 42, White, Protestant, Republican\n",
      "18. Woman, 75, White, Protestant, Republican\n",
      "41. Man, 63, White, Unreligious, Democrat\n",
      "50. Man, 73, Black, Protestant, Democrat\n",
      "2. Man, 29, Latino, Catholic, Independent\n",
      "13. Woman, 63, Latino, Catholic, Democrat\n",
      "38. Woman, 54, Asian, Hindu, Independent\n",
      "25. Woman, 77, White, Protestant, Republican\n",
      "7. Woman, 36, Latino, Unreligious, Democrat\n",
      "24. Woman, 68, White, Protestant, Independent\n",
      "37. Woman, 26, Latino, Catholic, Republican\n",
      "22. Man, 47, White, Protestant, Democrat\n",
      "20. Woman, 70, White, Unreligious, Democrat\n",
      "10. Woman, 26, Black, Protestant, Democrat\n",
      "40. Woman, 67, White, Catholic, Republican\n",
      "47. Man, 58, Black, Unreligious, Democrat\n",
      "4. Man, 38, Latino, Catholic, Democrat\n",
      "1. Woman, 46, White, Protestant, Democrat\n",
      "48. Woman, 24, Latino, Catholic, Democrat\n",
      "45. Woman, 48, White, Protestant, Republican\n",
      "\n",
      "Existing friendships:\n",
      "29, 44\n",
      "29, 13\n",
      "29, 48\n",
      "29, 4\n"
     ]
    }
   ],
   "source": [
    "user_prompt = get_user_prompt('sequential', personas, order, demos_to_include, curr_pid=order[1], G=G)\n",
    "print(user_prompt)"
   ]
  },
  {
   "cell_type": "code",
   "execution_count": 20,
   "metadata": {
    "scrolled": true
   },
   "outputs": [
    {
     "name": "stdout",
     "output_type": "stream",
     "text": [
      "SYSTEM:\n",
      "You are a Woman, 56, White, Protestant, Democrat. You are joining a social network.\n",
      "\n",
      "You will be provided a list of people in the network, where each person is described as \"ID. Gender, Age, Race/ethnicity, Religion, Political affiliation\". You will also be provided a list of existing friendship pairs in the network, in the format <ID>, <ID> with each pair separated by a newline.\n",
      "\n",
      "Which of these people will you become friends with? Provide a list of *YOUR* friends in the format <ID>, <ID>, <ID>, etc. Do not include any other text in your response. Do not include any people who are not listed below.\n",
      "\n",
      "USER:\n",
      "People\n",
      "29. Woman, 22, Latino, Catholic, Democrat\n",
      "11. Man, 26, Black, Protestant, Democrat\n",
      "42. Man, 29, Latino, Catholic, Republican\n",
      "3. Man, 66, Latino, Catholic, Republican\n",
      "28. Man, 27, White, Protestant, Republican\n",
      "39. Woman, 60, White, Unreligious, Democrat\n",
      "32. Man, 43, Latino, Catholic, Republican\n",
      "23. Woman, 55, White, Protestant, Democrat\n",
      "5. Woman, 65, White, Protestant, Republican\n",
      "34. Woman, 76, Black, Unreligious, Democrat\n",
      "36. Man, 38, White, Protestant, Republican\n",
      "27. Woman, 60, White, Unreligious, Republican\n",
      "35. Man, 50, Latino, Catholic, Democrat\n",
      "19. Woman, 64, White, Protestant, Democrat\n",
      "8. Woman, 41, Asian, Hindu, Independent\n",
      "15. Man, 23, Black, Unreligious, Democrat\n",
      "46. Man, 46, Black, Unreligious, Democrat\n",
      "49. Woman, 64, Latino, Unreligious, Democrat\n",
      "30. Man, 40, White, Protestant, Independent\n",
      "16. Woman, 35, White, Protestant, Republican\n",
      "31. Woman, 67, Asian, Unreligious, Independent\n",
      "33. Woman, 60, Black, Protestant, Democrat\n",
      "17. Man, 29, Native American/Alaska Native, Unreligious, Independent\n",
      "43. Man, 18, White, Protestant, Republican\n",
      "21. Woman, 34, White, Unreligious, Republican\n",
      "44. Woman, 50, Latino, Catholic, Democrat\n",
      "9. Woman, 39, White, Unreligious, Republican\n",
      "14. Woman, 30, White, Unreligious, Republican\n",
      "26. Woman, 35, White, Protestant, Independent\n",
      "6. Woman, 42, White, Protestant, Republican\n",
      "18. Woman, 75, White, Protestant, Republican\n",
      "41. Man, 63, White, Unreligious, Democrat\n",
      "50. Man, 73, Black, Protestant, Democrat\n",
      "2. Man, 29, Latino, Catholic, Independent\n",
      "13. Woman, 63, Latino, Catholic, Democrat\n",
      "38. Woman, 54, Asian, Hindu, Independent\n",
      "25. Woman, 77, White, Protestant, Republican\n",
      "7. Woman, 36, Latino, Unreligious, Democrat\n",
      "24. Woman, 68, White, Protestant, Independent\n",
      "37. Woman, 26, Latino, Catholic, Republican\n",
      "22. Man, 47, White, Protestant, Democrat\n",
      "20. Woman, 70, White, Unreligious, Democrat\n",
      "10. Woman, 26, Black, Protestant, Democrat\n",
      "40. Woman, 67, White, Catholic, Republican\n",
      "47. Man, 58, Black, Unreligious, Democrat\n",
      "4. Man, 38, Latino, Catholic, Democrat\n",
      "1. Woman, 46, White, Protestant, Democrat\n",
      "48. Woman, 24, Latino, Catholic, Democrat\n",
      "45. Woman, 48, White, Protestant, Republican\n",
      "\n",
      "Existing friendships:\n",
      "29, 44\n",
      "29, 13\n",
      "29, 48\n",
      "29, 4\n",
      "\n",
      "RESPONSE:\n",
      "23, 1\n"
     ]
    }
   ],
   "source": [
    "response = get_gpt_response(model, sys_prompt, user_prompt, verbose=True)\n",
    "G = update_graph_from_response('sequential', response, G, curr_pid=order[1])"
   ]
  },
  {
   "cell_type": "code",
   "execution_count": 45,
   "metadata": {},
   "outputs": [
    {
     "name": "stdout",
     "output_type": "stream",
     "text": [
      "179\n"
     ]
    },
    {
     "data": {
      "image/png": "[encoded data removed]",
      "text/plain": [
       "<Figure size 432x288 with 1 Axes>"
      ]
     },
     "metadata": {},
     "output_type": "display_data"
    }
   ],
   "source": [
    "# load local network\n",
    "fn = os.path.join(PATH_TO_TEXT_FILES, 'local_gpt-3.5-turbo_0.adj')\n",
    "G = nx.read_adjlist(fn)\n",
    "print(len(G.edges()))\n",
    "nx.draw_networkx(G, pos=nx.spring_layout(G, seed=0, k=2*1/np.sqrt(len(G.nodes()))))\n",
    "plt.axis(\"off\")  # turn off axis\n",
    "axis = plt.gca()\n",
    "axis.set_xlim([1.1*x for x in axis.get_xlim()])  # add padding so that node labels aren't cut off\n",
    "axis.set_ylim([1.1*y for y in axis.get_ylim()])\n",
    "plt.tight_layout()\n",
    "plt.show()"
   ]
  },
  {
   "cell_type": "code",
   "execution_count": 48,
   "metadata": {},
   "outputs": [
    {
     "data": {
      "text/plain": [
       "'soih'"
      ]
     },
     "execution_count": 48,
     "metadata": {},
     "output_type": "execute_result"
    }
   ],
   "source": [
    "'soih.'.strip('.')"
   ]
  },
  {
   "cell_type": "code",
   "execution_count": 46,
   "metadata": {},
   "outputs": [
    {
     "name": "stdout",
     "output_type": "stream",
     "text": [
      "You are a Woman, 22, Latino, Catholic, Democrat. You are part of a social network and you want to make a new friend.\n",
      "\n",
      "You will be provided a list of potential new friends, where each person is described as \"ID. Gender, Age, Race/ethnicity, Religion, Political affiliation\", followed by a list of their friends' IDs. Keep in mind that you are already friends with IDs 35, 4, 48, 13, 7, 50, 3, 24\n",
      "\n",
      "Which person in the list are you likeliest to befriend? Answer by providing this person's ID. Do not include any other text in your response. Do not include any people who are not listed below.\n"
     ]
    }
   ],
   "source": [
    "sys_prompt = get_system_prompt('iterative-add', personas, demos_to_include, curr_pid=order[0], G=G)\n",
    "print(sys_prompt)"
   ]
  },
  {
   "cell_type": "code",
   "execution_count": 47,
   "metadata": {},
   "outputs": [
    {
     "name": "stdout",
     "output_type": "stream",
     "text": [
      "You are a Woman, 22, Latino, Catholic, Democrat. You are part of a social network and you want to make a new friend.\n",
      "\n",
      "You will be provided a list of potential new friends, where each person is described as \"ID. Gender, Age, Race/ethnicity, Religion, Political affiliation\", followed by a list of their friends' IDs. Keep in mind that you are already friends with IDs 35, 4, 48, 13, 7, 50, 3, 24\n",
      "\n",
      "Which person in the list are you likeliest to befriend? Provide your answer in JSON form: {\"new friend\": <ID>, \"reason\": <reason for adding friend>}. Do not include any other text in your response. Do not include any people who are not listed below.\n"
     ]
    }
   ],
   "source": [
    "sys_prompt = get_system_prompt('iterative-add', personas, demos_to_include, curr_pid=order[0], G=G, include_reason=True)\n",
    "print(sys_prompt)"
   ]
  },
  {
   "cell_type": "code",
   "execution_count": 28,
   "metadata": {},
   "outputs": [
    {
     "name": "stdout",
     "output_type": "stream",
     "text": [
      "42. Man, 29, Latino, Catholic, Republican; friends with 32, 2, 35, 40, 3, 37\n",
      "10. Woman, 26, Black, Protestant, Democrat; friends with 11, 35, 50, 2, 47, 48\n",
      "10. Woman, 26, Black, Protestant, Democrat; friends with 11, 35, 50, 2, 47, 48\n",
      "6. Woman, 42, White, Protestant, Republican; friends with 28, 23, 5, 27, 30, 16, 43, 9, 25, 18, 45\n",
      "9. Woman, 39, White, Unreligious, Republican; friends with 16, 21, 14, 41, 6\n"
     ]
    }
   ],
   "source": [
    "user_prompt = get_user_prompt('iterative-add', personas, order, demos_to_include, curr_pid=order[0], G=G)\n",
    "print(user_prompt)"
   ]
  },
  {
   "cell_type": "code",
   "execution_count": 29,
   "metadata": {},
   "outputs": [
    {
     "name": "stdout",
     "output_type": "stream",
     "text": [
      "SYSTEM:\n",
      "You are a Woman, 22, Latino, Catholic, Democrat. You are part of a social network and you want to make a new friend.\n",
      "\n",
      "You will be provided a list of potential new friends, where each person is described as \"ID. Gender, Age, Race/ethnicity, Religion, Political affiliation\", followed by a list of their friends' IDs. Keep in mind that you are already friends with IDs 35, 4, 48, 13, 7, 50, 3, 24\n",
      "\n",
      "Which person in the list are you likeliest to befriend? Provide your answer in the form: {\"new friend\": ID, \"reason\": reason}. Do not include any other text in your response. Do not include any people who are not listed below.\n",
      "\n",
      "USER:\n",
      "42. Man, 29, Latino, Catholic, Republican; friends with 32, 2, 35, 40, 3, 37\n",
      "10. Woman, 26, Black, Protestant, Democrat; friends with 11, 35, 50, 2, 47, 48\n",
      "10. Woman, 26, Black, Protestant, Democrat; friends with 11, 35, 50, 2, 47, 48\n",
      "6. Woman, 42, White, Protestant, Republican; friends with 28, 23, 5, 27, 30, 16, 43, 9, 25, 18, 45\n",
      "9. Woman, 39, White, Unreligious, Republican; friends with 16, 21, 14, 41, 6\n",
      "\n",
      "RESPONSE:\n",
      "{\"new friend\": 10, \"reason\": \"She is a Democrat like me and we have mutual friends in common (35, 48)\"}\n"
     ]
    }
   ],
   "source": [
    "response = get_gpt_response(model, sys_prompt, user_prompt, verbose=True)"
   ]
  },
  {
   "cell_type": "code",
   "execution_count": 42,
   "metadata": {},
   "outputs": [
    {
     "data": {
      "text/plain": [
       "{'new friend': 32,\n",
       " 'reason': 'You share the same political affiliation and have a few mutual friends, which could make for a good starting point for a new friendship.'}"
      ]
     },
     "execution_count": 42,
     "metadata": {},
     "output_type": "execute_result"
    }
   ],
   "source": [
    "json.loads('{\"new friend\": 32, \"reason\": \"You share the same political affiliation and have a few mutual friends, which could make for a good starting point for a new friendship.\"}')"
   ]
  },
  {
   "cell_type": "code",
   "execution_count": 35,
   "metadata": {},
   "outputs": [
    {
     "name": "stdout",
     "output_type": "stream",
     "text": [
      "['35', '4', '48', '13', '7', '50', '3', '24']\n",
      "['35', '4', '48', '13', '7', '50', '3', '24', '10']\n"
     ]
    }
   ],
   "source": [
    "print(list(G.neighbors(order[0])))\n",
    "G = update_graph_from_response('iterative-add', response, G, curr_pid=order[0])\n",
    "print(list(G.neighbors(order[0])))  # check that new friend was added"
   ]
  },
  {
   "cell_type": "code",
   "execution_count": 37,
   "metadata": {},
   "outputs": [
    {
     "name": "stdout",
     "output_type": "stream",
     "text": [
      "You are a Woman, 22, Latino, Catholic, Democrat. Unfortunately, you are busy with work and unable to keep up all your friendships.\n",
      "\n",
      "You will be provided a list of your current friends, where each person is described as \"ID. Gender, Age, Race/ethnicity, Religion, Political affiliation\", followed by a list of their friends' IDs. \n",
      "\n",
      "Which of your friends are you likeliest to stop seeing? Provide your answer in the form: {\"lost friend\": ID, \"reason\": reason}. Do not include any other text in your response. Do not include any people who are not listed below.\n"
     ]
    }
   ],
   "source": [
    "sys_prompt = get_system_prompt('iterative-drop', personas, demos_to_include, curr_pid=order[0], G=G)\n",
    "print(sys_prompt)"
   ]
  },
  {
   "cell_type": "code",
   "execution_count": 38,
   "metadata": {},
   "outputs": [
    {
     "name": "stdout",
     "output_type": "stream",
     "text": [
      "13. Woman, 63, Latino, Catholic, Democrat; friends with 29, 12, 34, 35, 44, 48\n",
      "10. Woman, 26, Black, Protestant, Democrat; friends with 11, 35, 50, 2, 47, 48, 29\n",
      "3. Man, 66, Latino, Catholic, Republican; friends with 29, 42, 32, 2, 34, 43, 36, 37, 35, 28\n",
      "35. Man, 50, Latino, Catholic, Democrat; friends with 29, 42, 3, 36, 44, 10, 13, 48, 2\n",
      "24. Woman, 68, White, Protestant, Independent; friends with 29, 12, 19, 30, 31, 26\n",
      "4. Man, 38, Latino, Catholic, Democrat; friends with 29, 11, 34, 19, 49, 44, 2, 7\n",
      "48. Woman, 24, Latino, Catholic, Democrat; friends with 29, 12, 11, 39, 23, 34, 35, 49, 44, 13, 7, 10\n",
      "7. Woman, 36, Latino, Unreligious, Democrat; friends with 29, 11, 39, 34, 46, 49, 33, 44, 4, 48\n",
      "50. Man, 73, Black, Protestant, Democrat; friends with 29, 11, 39, 34, 49, 30, 33, 10, 47\n"
     ]
    }
   ],
   "source": [
    "user_prompt = get_user_prompt('iterative-drop', personas, order, demos_to_include, curr_pid=order[0], G=G)\n",
    "print(user_prompt)"
   ]
  },
  {
   "cell_type": "code",
   "execution_count": 39,
   "metadata": {},
   "outputs": [
    {
     "name": "stdout",
     "output_type": "stream",
     "text": [
      "SYSTEM:\n",
      "You are a Woman, 22, Latino, Catholic, Democrat. Unfortunately, you are busy with work and unable to keep up all your friendships.\n",
      "\n",
      "You will be provided a list of your current friends, where each person is described as \"ID. Gender, Age, Race/ethnicity, Religion, Political affiliation\", followed by a list of their friends' IDs. \n",
      "\n",
      "Which of your friends are you likeliest to stop seeing? Provide your answer in the form: {\"lost friend\": ID, \"reason\": reason}. Do not include any other text in your response. Do not include any people who are not listed below.\n",
      "\n",
      "USER:\n",
      "13. Woman, 63, Latino, Catholic, Democrat; friends with 29, 12, 34, 35, 44, 48\n",
      "10. Woman, 26, Black, Protestant, Democrat; friends with 11, 35, 50, 2, 47, 48, 29\n",
      "3. Man, 66, Latino, Catholic, Republican; friends with 29, 42, 32, 2, 34, 43, 36, 37, 35, 28\n",
      "35. Man, 50, Latino, Catholic, Democrat; friends with 29, 42, 3, 36, 44, 10, 13, 48, 2\n",
      "24. Woman, 68, White, Protestant, Independent; friends with 29, 12, 19, 30, 31, 26\n",
      "4. Man, 38, Latino, Catholic, Democrat; friends with 29, 11, 34, 19, 49, 44, 2, 7\n",
      "48. Woman, 24, Latino, Catholic, Democrat; friends with 29, 12, 11, 39, 23, 34, 35, 49, 44, 13, 7, 10\n",
      "7. Woman, 36, Latino, Unreligious, Democrat; friends with 29, 11, 39, 34, 46, 49, 33, 44, 4, 48\n",
      "50. Man, 73, Black, Protestant, Democrat; friends with 29, 11, 39, 34, 49, 30, 33, 10, 47\n",
      "\n",
      "RESPONSE:\n",
      "{\"lost friend\": 24, \"reason\": \"least number of mutual friends\"}\n"
     ]
    }
   ],
   "source": [
    "response = get_gpt_response(model, sys_prompt, user_prompt, verbose=True)"
   ]
  },
  {
   "cell_type": "code",
   "execution_count": 40,
   "metadata": {},
   "outputs": [
    {
     "name": "stdout",
     "output_type": "stream",
     "text": [
      "['35', '4', '48', '13', '7', '50', '3', '24', '10']\n",
      "['35', '4', '48', '13', '7', '50', '3', '10']\n"
     ]
    }
   ],
   "source": [
    "print(list(G.neighbors(order[0])))\n",
    "G = update_graph_from_response('iterative-drop', response, G, curr_pid=order[0])\n",
    "print(list(G.neighbors(order[0])))  # check that friend was dropped"
   ]
  },
  {
   "cell_type": "markdown",
   "metadata": {},
   "source": [
    "# Analyze networks"
   ]
  },
  {
   "cell_type": "code",
   "execution_count": 2,
   "metadata": {},
   "outputs": [
    {
     "name": "stdout",
     "output_type": "stream",
     "text": [
      "50\n"
     ]
    }
   ],
   "source": [
    "persona_fn = 'us_50.json'\n",
    "fn = os.path.join(PATH_TO_TEXT_FILES, persona_fn)\n",
    "with open(fn) as f:\n",
    "    personas = json.load(f)\n",
    "print(len(personas))\n",
    "\n",
    "demos_to_include = ['gender', 'age', 'race/ethnicity', 'religion', 'political affiliation']"
   ]
  },
  {
   "cell_type": "code",
   "execution_count": 4,
   "metadata": {},
   "outputs": [
    {
     "name": "stdout",
     "output_type": "stream",
     "text": [
      "global_gpt-3.5-turbo: found 30 graphs\n",
      "Saved homophily metrics to global_gpt-3.5-turbo/homophily.csv\n",
      "Saved network metrics to global_gpt-3.5-turbo/network_metrics.csv\n",
      "\n",
      "local_gpt-3.5-turbo: found 30 graphs\n",
      "Saved homophily metrics to local_gpt-3.5-turbo/homophily.csv\n",
      "Saved network metrics to local_gpt-3.5-turbo/network_metrics.csv\n",
      "\n",
      "sequential_gpt-3.5-turbo: found 30 graphs\n",
      "Saved homophily metrics to sequential_gpt-3.5-turbo/homophily.csv\n",
      "Saved network metrics to sequential_gpt-3.5-turbo/network_metrics.csv\n",
      "\n"
     ]
    }
   ],
   "source": [
    "model = 'gpt-3.5-turbo'\n",
    "min_seed = 0\n",
    "max_seed = 29\n",
    "for method in ['global', 'local', 'sequential']:\n",
    "    list_of_G = load_list_of_graphs(f'{method}_{model}', min_seed, max_seed+1, directed=False)\n",
    "    print(f'{method}_{model}: found {len(list_of_G)} graphs')\n",
    "    summarize_network_metrics(list_of_G, personas, demos_to_include, f'{method}_{model}', demos=True)\n",
    "    print()"
   ]
  },
  {
   "cell_type": "code",
   "execution_count": 5,
   "metadata": {},
   "outputs": [
    {
     "name": "stdout",
     "output_type": "stream",
     "text": [
      "iterative_gpt-3.5-turbo: found 3 graphs\n",
      "Saved homophily metrics to iterative_gpt-3.5-turbo/homophily.csv\n",
      "Saved network metrics to iterative_gpt-3.5-turbo/network_metrics.csv\n"
     ]
    }
   ],
   "source": [
    "min_seed = 0\n",
    "max_seed = 2\n",
    "method = 'iterative'\n",
    "list_of_G = load_list_of_graphs(f'{method}_{model}', min_seed, max_seed+1, directed=False)\n",
    "print(f'{method}_{model}: found {len(list_of_G)} graphs')\n",
    "summarize_network_metrics(list_of_G, personas, demos_to_include, f'{method}_{model}', demos=True)"
   ]
  },
  {
   "cell_type": "code",
   "execution_count": 6,
   "metadata": {},
   "outputs": [
    {
     "data": {
      "text/plain": [
       "save_name\n",
       "global_gpt-3.5-turbo        150\n",
       "iterative_gpt-3.5-turbo      15\n",
       "local_gpt-3.5-turbo         150\n",
       "sequential_gpt-3.5-turbo    150\n",
       "dtype: int64"
      ]
     },
     "execution_count": 6,
     "metadata": {},
     "output_type": "execute_result"
    }
   ],
   "source": [
    "dfs = []\n",
    "for method in ['global', 'local', 'sequential', 'iterative']:\n",
    "    homophily_df = pd.read_csv(f'stats/{method}_gpt-3.5-turbo/homophily.csv')\n",
    "    dfs.append(homophily_df)\n",
    "homophily_df = pd.concat(dfs)\n",
    "homophily_df.groupby('save_name').size()"
   ]
  },
  {
   "cell_type": "code",
   "execution_count": 7,
   "metadata": {},
   "outputs": [
    {
     "data": {
      "text/html": [
       "<div>\n",
       "<style scoped>\n",
       "    .dataframe tbody tr th:only-of-type {\n",
       "        vertical-align: middle;\n",
       "    }\n",
       "\n",
       "    .dataframe tbody tr th {\n",
       "        vertical-align: top;\n",
       "    }\n",
       "\n",
       "    .dataframe thead th {\n",
       "        text-align: right;\n",
       "    }\n",
       "</style>\n",
       "<table border=\"1\" class=\"dataframe\">\n",
       "  <thead>\n",
       "    <tr style=\"text-align: right;\">\n",
       "      <th></th>\n",
       "      <th>graph_nr</th>\n",
       "      <th>demo</th>\n",
       "      <th>_metric_value</th>\n",
       "      <th>save_name</th>\n",
       "    </tr>\n",
       "  </thead>\n",
       "  <tbody>\n",
       "    <tr>\n",
       "      <th>98</th>\n",
       "      <td>19.0</td>\n",
       "      <td>religion</td>\n",
       "      <td>0.644772</td>\n",
       "      <td>sequential_gpt-3.5-turbo</td>\n",
       "    </tr>\n",
       "    <tr>\n",
       "      <th>149</th>\n",
       "      <td>29.0</td>\n",
       "      <td>political affiliation</td>\n",
       "      <td>0.243579</td>\n",
       "      <td>local_gpt-3.5-turbo</td>\n",
       "    </tr>\n",
       "    <tr>\n",
       "      <th>52</th>\n",
       "      <td>10.0</td>\n",
       "      <td>race/ethnicity</td>\n",
       "      <td>0.446518</td>\n",
       "      <td>local_gpt-3.5-turbo</td>\n",
       "    </tr>\n",
       "    <tr>\n",
       "      <th>74</th>\n",
       "      <td>14.0</td>\n",
       "      <td>political affiliation</td>\n",
       "      <td>0.723090</td>\n",
       "      <td>sequential_gpt-3.5-turbo</td>\n",
       "    </tr>\n",
       "    <tr>\n",
       "      <th>98</th>\n",
       "      <td>19.0</td>\n",
       "      <td>religion</td>\n",
       "      <td>0.591109</td>\n",
       "      <td>global_gpt-3.5-turbo</td>\n",
       "    </tr>\n",
       "    <tr>\n",
       "      <th>63</th>\n",
       "      <td>12.0</td>\n",
       "      <td>religion</td>\n",
       "      <td>0.505441</td>\n",
       "      <td>global_gpt-3.5-turbo</td>\n",
       "    </tr>\n",
       "    <tr>\n",
       "      <th>145</th>\n",
       "      <td>29.0</td>\n",
       "      <td>gender</td>\n",
       "      <td>0.688772</td>\n",
       "      <td>sequential_gpt-3.5-turbo</td>\n",
       "    </tr>\n",
       "    <tr>\n",
       "      <th>38</th>\n",
       "      <td>7.0</td>\n",
       "      <td>religion</td>\n",
       "      <td>0.597304</td>\n",
       "      <td>sequential_gpt-3.5-turbo</td>\n",
       "    </tr>\n",
       "    <tr>\n",
       "      <th>102</th>\n",
       "      <td>20.0</td>\n",
       "      <td>race/ethnicity</td>\n",
       "      <td>0.572342</td>\n",
       "      <td>sequential_gpt-3.5-turbo</td>\n",
       "    </tr>\n",
       "    <tr>\n",
       "      <th>18</th>\n",
       "      <td>3.0</td>\n",
       "      <td>religion</td>\n",
       "      <td>0.723532</td>\n",
       "      <td>local_gpt-3.5-turbo</td>\n",
       "    </tr>\n",
       "  </tbody>\n",
       "</table>\n",
       "</div>"
      ],
      "text/plain": [
       "     graph_nr                   demo  _metric_value                 save_name\n",
       "98       19.0               religion       0.644772  sequential_gpt-3.5-turbo\n",
       "149      29.0  political affiliation       0.243579       local_gpt-3.5-turbo\n",
       "52       10.0         race/ethnicity       0.446518       local_gpt-3.5-turbo\n",
       "74       14.0  political affiliation       0.723090  sequential_gpt-3.5-turbo\n",
       "98       19.0               religion       0.591109      global_gpt-3.5-turbo\n",
       "63       12.0               religion       0.505441      global_gpt-3.5-turbo\n",
       "145      29.0                 gender       0.688772  sequential_gpt-3.5-turbo\n",
       "38        7.0               religion       0.597304  sequential_gpt-3.5-turbo\n",
       "102      20.0         race/ethnicity       0.572342  sequential_gpt-3.5-turbo\n",
       "18        3.0               religion       0.723532       local_gpt-3.5-turbo"
      ]
     },
     "execution_count": 7,
     "metadata": {},
     "output_type": "execute_result"
    }
   ],
   "source": [
    "homophily_df.sample(10)"
   ]
  },
  {
   "cell_type": "code",
   "execution_count": 10,
   "metadata": {},
   "outputs": [
    {
     "data": {
      "image/png": "[encoded data removed]",
      "text/plain": [
       "<Figure size 864x432 with 1 Axes>"
      ]
     },
     "metadata": {},
     "output_type": "display_data"
    }
   ],
   "source": [
    "make_plot(homophily_df, plot_homophily=True, plot_type='default')"
   ]
  },
  {
   "cell_type": "code",
   "execution_count": 11,
   "metadata": {},
   "outputs": [
    {
     "data": {
      "image/png": "[encoded data removed]",
      "text/plain": [
       "<Figure size 864x432 with 1 Axes>"
      ]
     },
     "metadata": {},
     "output_type": "display_data"
    }
   ],
   "source": [
    "make_plot(homophily_df, plot_homophily=True, plot_type='bar')"
   ]
  },
  {
   "cell_type": "code",
   "execution_count": 16,
   "metadata": {},
   "outputs": [
    {
     "data": {
      "text/plain": [
       "save_name\n",
       "global_gpt-3.5-turbo        4650\n",
       "iterative_gpt-3.5-turbo      465\n",
       "local_gpt-3.5-turbo         4650\n",
       "sequential_gpt-3.5-turbo    4650\n",
       "dtype: int64"
      ]
     },
     "execution_count": 16,
     "metadata": {},
     "output_type": "execute_result"
    }
   ],
   "source": [
    "dfs = []\n",
    "for method in ['global', 'local', 'sequential', 'iterative']:\n",
    "    network_df = pd.read_csv(f'stats/{method}_gpt-3.5-turbo/network_metrics.csv')\n",
    "    dfs.append(network_df)\n",
    "network_df = pd.concat(dfs)\n",
    "network_df.groupby('save_name').size()"
   ]
  },
  {
   "cell_type": "code",
   "execution_count": 17,
   "metadata": {},
   "outputs": [
    {
     "data": {
      "text/plain": [
       "graph_nr         float64\n",
       "metric_name       object\n",
       "_metric_value    float64\n",
       "save_name         object\n",
       "node             float64\n",
       "dtype: object"
      ]
     },
     "execution_count": 17,
     "metadata": {},
     "output_type": "execute_result"
    }
   ],
   "source": [
    "network_df.dtypes"
   ]
  },
  {
   "cell_type": "code",
   "execution_count": 18,
   "metadata": {},
   "outputs": [
    {
     "data": {
      "text/html": [
       "<div>\n",
       "<style scoped>\n",
       "    .dataframe tbody tr th:only-of-type {\n",
       "        vertical-align: middle;\n",
       "    }\n",
       "\n",
       "    .dataframe tbody tr th {\n",
       "        vertical-align: top;\n",
       "    }\n",
       "\n",
       "    .dataframe thead th {\n",
       "        text-align: right;\n",
       "    }\n",
       "</style>\n",
       "<table border=\"1\" class=\"dataframe\">\n",
       "  <thead>\n",
       "    <tr style=\"text-align: right;\">\n",
       "      <th></th>\n",
       "      <th>graph_nr</th>\n",
       "      <th>metric_name</th>\n",
       "      <th>_metric_value</th>\n",
       "      <th>save_name</th>\n",
       "      <th>node</th>\n",
       "    </tr>\n",
       "  </thead>\n",
       "  <tbody>\n",
       "    <tr>\n",
       "      <th>3823</th>\n",
       "      <td>24.0</td>\n",
       "      <td>betweenness_centrality</td>\n",
       "      <td>0.000000</td>\n",
       "      <td>global_gpt-3.5-turbo</td>\n",
       "      <td>28.0</td>\n",
       "    </tr>\n",
       "    <tr>\n",
       "      <th>4261</th>\n",
       "      <td>27.0</td>\n",
       "      <td>betweenness_centrality</td>\n",
       "      <td>0.000000</td>\n",
       "      <td>global_gpt-3.5-turbo</td>\n",
       "      <td>28.0</td>\n",
       "    </tr>\n",
       "    <tr>\n",
       "      <th>2092</th>\n",
       "      <td>12.0</td>\n",
       "      <td>closeness_centrality</td>\n",
       "      <td>0.457944</td>\n",
       "      <td>local_gpt-3.5-turbo</td>\n",
       "      <td>6.0</td>\n",
       "    </tr>\n",
       "    <tr>\n",
       "      <th>3060</th>\n",
       "      <td>19.0</td>\n",
       "      <td>betweenness_centrality</td>\n",
       "      <td>0.017262</td>\n",
       "      <td>global_gpt-3.5-turbo</td>\n",
       "      <td>9.0</td>\n",
       "    </tr>\n",
       "    <tr>\n",
       "      <th>1727</th>\n",
       "      <td>10.0</td>\n",
       "      <td>betweenness_centrality</td>\n",
       "      <td>0.000000</td>\n",
       "      <td>global_gpt-3.5-turbo</td>\n",
       "      <td>41.0</td>\n",
       "    </tr>\n",
       "    <tr>\n",
       "      <th>3214</th>\n",
       "      <td>20.0</td>\n",
       "      <td>betweenness_centrality</td>\n",
       "      <td>0.000000</td>\n",
       "      <td>global_gpt-3.5-turbo</td>\n",
       "      <td>25.0</td>\n",
       "    </tr>\n",
       "    <tr>\n",
       "      <th>4277</th>\n",
       "      <td>27.0</td>\n",
       "      <td>betweenness_centrality</td>\n",
       "      <td>0.000726</td>\n",
       "      <td>sequential_gpt-3.5-turbo</td>\n",
       "      <td>3.0</td>\n",
       "    </tr>\n",
       "    <tr>\n",
       "      <th>1556</th>\n",
       "      <td>9.0</td>\n",
       "      <td>betweenness_centrality</td>\n",
       "      <td>0.044501</td>\n",
       "      <td>global_gpt-3.5-turbo</td>\n",
       "      <td>3.0</td>\n",
       "    </tr>\n",
       "    <tr>\n",
       "      <th>2643</th>\n",
       "      <td>16.0</td>\n",
       "      <td>betweenness_centrality</td>\n",
       "      <td>0.000000</td>\n",
       "      <td>global_gpt-3.5-turbo</td>\n",
       "      <td>15.0</td>\n",
       "    </tr>\n",
       "    <tr>\n",
       "      <th>451</th>\n",
       "      <td>2.0</td>\n",
       "      <td>degree_centrality</td>\n",
       "      <td>0.142857</td>\n",
       "      <td>local_gpt-3.5-turbo</td>\n",
       "      <td>40.0</td>\n",
       "    </tr>\n",
       "  </tbody>\n",
       "</table>\n",
       "</div>"
      ],
      "text/plain": [
       "      graph_nr             metric_name  _metric_value  \\\n",
       "3823      24.0  betweenness_centrality       0.000000   \n",
       "4261      27.0  betweenness_centrality       0.000000   \n",
       "2092      12.0    closeness_centrality       0.457944   \n",
       "3060      19.0  betweenness_centrality       0.017262   \n",
       "1727      10.0  betweenness_centrality       0.000000   \n",
       "3214      20.0  betweenness_centrality       0.000000   \n",
       "4277      27.0  betweenness_centrality       0.000726   \n",
       "1556       9.0  betweenness_centrality       0.044501   \n",
       "2643      16.0  betweenness_centrality       0.000000   \n",
       "451        2.0       degree_centrality       0.142857   \n",
       "\n",
       "                     save_name  node  \n",
       "3823      global_gpt-3.5-turbo  28.0  \n",
       "4261      global_gpt-3.5-turbo  28.0  \n",
       "2092       local_gpt-3.5-turbo   6.0  \n",
       "3060      global_gpt-3.5-turbo   9.0  \n",
       "1727      global_gpt-3.5-turbo  41.0  \n",
       "3214      global_gpt-3.5-turbo  25.0  \n",
       "4277  sequential_gpt-3.5-turbo   3.0  \n",
       "1556      global_gpt-3.5-turbo   3.0  \n",
       "2643      global_gpt-3.5-turbo  15.0  \n",
       "451        local_gpt-3.5-turbo  40.0  "
      ]
     },
     "execution_count": 18,
     "metadata": {},
     "output_type": "execute_result"
    }
   ],
   "source": [
    "network_df.sample(10)"
   ]
  },
  {
   "cell_type": "code",
   "execution_count": 26,
   "metadata": {},
   "outputs": [
    {
     "name": "stdout",
     "output_type": "stream",
     "text": [
      "Dropping node-level stats: kept 465 out of 14415 rows\n"
     ]
    },
    {
     "data": {
      "image/png": "[encoded data removed]",
      "text/plain": [
       "<Figure size 864x432 with 1 Axes>"
      ]
     },
     "metadata": {},
     "output_type": "display_data"
    }
   ],
   "source": [
    "make_plot(network_df, plot_homophily=False, plot_type='default')"
   ]
  },
  {
   "cell_type": "code",
   "execution_count": 24,
   "metadata": {},
   "outputs": [
    {
     "name": "stdout",
     "output_type": "stream",
     "text": [
      "Dropping node-level stats: kept 465 out of 14415 rows\n",
      "Keeping rows in ['density']: kept 93 out of 465 rows\n"
     ]
    },
    {
     "data": {
      "image/png": "[encoded data removed]",
      "text/plain": [
       "<Figure size 864x432 with 1 Axes>"
      ]
     },
     "metadata": {},
     "output_type": "display_data"
    }
   ],
   "source": [
    "make_plot(network_df, plot_homophily=False, plot_type='default', x_to_keep=['density'])"
   ]
  },
  {
   "cell_type": "code",
   "execution_count": 23,
   "metadata": {},
   "outputs": [
    {
     "name": "stdout",
     "output_type": "stream",
     "text": [
      "Dropping node-level stats: kept 465 out of 14415 rows\n",
      "Keeping rows in ['avg_clustering_coef']: kept 93 out of 465 rows\n"
     ]
    },
    {
     "data": {
      "image/png": "[encoded data removed]",
      "text/plain": [
       "<Figure size 360x360 with 1 Axes>"
      ]
     },
     "metadata": {},
     "output_type": "display_data"
    }
   ],
   "source": [
    "make_plot(network_df, plot_homophily=False, plot_type='default', \n",
    "          figsize=(5,5), x_to_keep=['avg_clustering_coef'])"
   ]
  },
  {
   "cell_type": "code",
   "execution_count": 61,
   "metadata": {},
   "outputs": [
    {
     "name": "stdout",
     "output_type": "stream",
     "text": [
      "Dropping node-level stats: kept 450 out of 13950 rows\n"
     ]
    },
    {
     "data": {
      "image/png": "[encoded data removed]",
      "text/plain": [
       "<Figure size 864x432 with 1 Axes>"
      ]
     },
     "metadata": {},
     "output_type": "display_data"
    }
   ],
   "source": [
    "make_plot(network_df, plot_homophily=False, plot_type='bar')"
   ]
  },
  {
   "cell_type": "markdown",
   "metadata": {},
   "source": [
    "# Load real networks"
   ]
  },
  {
   "cell_type": "code",
   "execution_count": 64,
   "metadata": {},
   "outputs": [],
   "source": [
    "from network_datasets import *"
   ]
  },
  {
   "cell_type": "code",
   "execution_count": 78,
   "metadata": {},
   "outputs": [
    {
     "ename": "NameError",
     "evalue": "name 'values' is not defined",
     "output_type": "error",
     "traceback": [
      "\u001b[0;31m---------------------------------------------------------------------------\u001b[0m",
      "\u001b[0;31mNameError\u001b[0m                                 Traceback (most recent call last)",
      "\u001b[0;32m<ipython-input-78-701ae9aea078>\u001b[0m in \u001b[0;36m<module>\u001b[0;34m\u001b[0m\n\u001b[0;32m----> 1\u001b[0;31m \u001b[0mG\u001b[0m \u001b[0;34m=\u001b[0m \u001b[0mload_50_women\u001b[0m\u001b[0;34m(\u001b[0m\u001b[0;36m1\u001b[0m\u001b[0;34m)\u001b[0m\u001b[0;34m\u001b[0m\u001b[0;34m\u001b[0m\u001b[0m\n\u001b[0m\u001b[1;32m      2\u001b[0m \u001b[0mlen\u001b[0m\u001b[0;34m(\u001b[0m\u001b[0mG\u001b[0m\u001b[0;34m.\u001b[0m\u001b[0mnodes\u001b[0m\u001b[0;34m(\u001b[0m\u001b[0;34m)\u001b[0m\u001b[0;34m)\u001b[0m\u001b[0;34m,\u001b[0m \u001b[0mlen\u001b[0m\u001b[0;34m(\u001b[0m\u001b[0mG\u001b[0m\u001b[0;34m.\u001b[0m\u001b[0medges\u001b[0m\u001b[0;34m)\u001b[0m\u001b[0;34m\u001b[0m\u001b[0;34m\u001b[0m\u001b[0m\n",
      "\u001b[0;32m/dfs/scratch0/serinac/llm-social-network/network_datasets.py\u001b[0m in \u001b[0;36mload_50_women\u001b[0;34m(year)\u001b[0m\n\u001b[1;32m     25\u001b[0m     \u001b[0;32mfor\u001b[0m \u001b[0mel\u001b[0m \u001b[0;32min\u001b[0m \u001b[0medges\u001b[0m\u001b[0;34m:\u001b[0m\u001b[0;34m\u001b[0m\u001b[0;34m\u001b[0m\u001b[0m\n\u001b[1;32m     26\u001b[0m         \u001b[0mG\u001b[0m\u001b[0;34m.\u001b[0m\u001b[0madd_edge\u001b[0m\u001b[0;34m(\u001b[0m\u001b[0mel\u001b[0m\u001b[0;34m.\u001b[0m\u001b[0mget\u001b[0m\u001b[0;34m(\u001b[0m\u001b[0;34m'source'\u001b[0m\u001b[0;34m)\u001b[0m\u001b[0;34m,\u001b[0m \u001b[0mel\u001b[0m\u001b[0;34m.\u001b[0m\u001b[0mget\u001b[0m\u001b[0;34m(\u001b[0m\u001b[0;34m'target'\u001b[0m\u001b[0;34m)\u001b[0m\u001b[0;34m)\u001b[0m\u001b[0;34m\u001b[0m\u001b[0;34m\u001b[0m\u001b[0m\n\u001b[0;32m---> 27\u001b[0;31m         \u001b[0mvalues\u001b[0m\u001b[0;34m.\u001b[0m\u001b[0mappend\u001b[0m\u001b[0;34m(\u001b[0m\u001b[0mfloat\u001b[0m\u001b[0;34m(\u001b[0m\u001b[0mel\u001b[0m\u001b[0;34m.\u001b[0m\u001b[0mget\u001b[0m\u001b[0;34m(\u001b[0m\u001b[0;34m'value'\u001b[0m\u001b[0;34m)\u001b[0m\u001b[0;34m)\u001b[0m\u001b[0;34m)\u001b[0m\u001b[0;34m\u001b[0m\u001b[0;34m\u001b[0m\u001b[0m\n\u001b[0m\u001b[1;32m     28\u001b[0m     \u001b[0;32massert\u001b[0m \u001b[0mnp\u001b[0m\u001b[0;34m.\u001b[0m\u001b[0misclose\u001b[0m\u001b[0;34m(\u001b[0m\u001b[0mvalues\u001b[0m\u001b[0;34m,\u001b[0m \u001b[0;36m1\u001b[0m\u001b[0;34m)\u001b[0m\u001b[0;34m.\u001b[0m\u001b[0mall\u001b[0m\u001b[0;34m(\u001b[0m\u001b[0;34m)\u001b[0m  \u001b[0;31m# all values should be 1.0\u001b[0m\u001b[0;34m\u001b[0m\u001b[0;34m\u001b[0m\u001b[0m\n\u001b[1;32m     29\u001b[0m     \u001b[0;32mreturn\u001b[0m \u001b[0mG\u001b[0m\u001b[0;34m\u001b[0m\u001b[0;34m\u001b[0m\u001b[0m\n",
      "\u001b[0;31mNameError\u001b[0m: name 'values' is not defined"
     ]
    }
   ],
   "source": [
    "G = load_50_women(1)\n",
    "len(G.nodes()), len(G.edges)"
   ]
  },
  {
   "cell_type": "code",
   "execution_count": 60,
   "metadata": {},
   "outputs": [
    {
     "data": {
      "text/plain": [
       "(50, 74)"
      ]
     },
     "execution_count": 60,
     "metadata": {},
     "output_type": "execute_result"
    }
   ],
   "source": [
    "G = load_50_women(1)\n",
    "len(G.nodes()), len(G.edges)"
   ]
  },
  {
   "cell_type": "code",
   "execution_count": 67,
   "metadata": {},
   "outputs": [
    {
     "data": {
      "text/plain": [
       "(60, 161)"
      ]
     },
     "execution_count": 67,
     "metadata": {},
     "output_type": "execute_result"
    }
   ],
   "source": [
    "G = load_attiro()\n",
    "len(G.nodes), len(G.edges)"
   ]
  },
  {
   "cell_type": "code",
   "execution_count": 68,
   "metadata": {},
   "outputs": [
    {
     "data": {
      "text/plain": [
       "(75, 197)"
      ]
     },
     "execution_count": 68,
     "metadata": {},
     "output_type": "execute_result"
    }
   ],
   "source": [
    "G = load_san_juan()\n",
    "len(G.nodes), len(G.edges)"
   ]
  },
  {
   "cell_type": "code",
   "execution_count": 69,
   "metadata": {},
   "outputs": [],
   "source": [
    "fn = os.path.join(PATH_TO_REAL_NETWORKS, 's50', f's50_d01.xml')"
   ]
  },
  {
   "cell_type": "code",
   "execution_count": 70,
   "metadata": {},
   "outputs": [
    {
     "data": {
      "text/plain": [
       "<xml.etree.ElementTree.ElementTree at 0x7f78f7eb4790>"
      ]
     },
     "execution_count": 70,
     "metadata": {},
     "output_type": "execute_result"
    }
   ],
   "source": [
    "import xml.etree.ElementTree as ET\n",
    "\n",
    "tree = ET.parse(fn)\n",
    "tree"
   ]
  },
  {
   "cell_type": "code",
   "execution_count": 71,
   "metadata": {},
   "outputs": [
    {
     "data": {
      "text/plain": [
       "<Element 'DynamicNetwork' at 0x7f78f8133cb0>"
      ]
     },
     "execution_count": 71,
     "metadata": {},
     "output_type": "execute_result"
    }
   ],
   "source": [
    "root = tree.getroot()\n",
    "root"
   ]
  },
  {
   "cell_type": "code",
   "execution_count": 76,
   "metadata": {},
   "outputs": [
    {
     "data": {
      "text/plain": [
       "50"
      ]
     },
     "execution_count": 76,
     "metadata": {},
     "output_type": "execute_result"
    }
   ],
   "source": [
    "metanetwork = root.find('MetaNetwork')\n",
    "nodes = metanetwork.find('nodes').find('nodeclass')\n",
    "nodes = nodes.findall('node')\n",
    "len(nodes)"
   ]
  },
  {
   "cell_type": "code",
   "execution_count": null,
   "metadata": {},
   "outputs": [],
   "source": [
    "nodes = "
   ]
  },
  {
   "cell_type": "code",
   "execution_count": 40,
   "metadata": {},
   "outputs": [
    {
     "data": {
      "text/plain": [
       "'DynamicNetwork'"
      ]
     },
     "execution_count": 40,
     "metadata": {},
     "output_type": "execute_result"
    }
   ],
   "source": [
    "root.tag"
   ]
  },
  {
   "cell_type": "code",
   "execution_count": 52,
   "metadata": {},
   "outputs": [
    {
     "name": "stdout",
     "output_type": "stream",
     "text": [
      "1\n",
      "2\n",
      "3\n",
      "4\n",
      "5\n",
      "6\n",
      "7\n",
      "8\n",
      "9\n",
      "10\n",
      "11\n",
      "12\n",
      "13\n",
      "14\n",
      "15\n",
      "16\n",
      "17\n",
      "18\n",
      "19\n",
      "20\n",
      "21\n",
      "22\n",
      "23\n",
      "24\n",
      "25\n",
      "26\n",
      "27\n",
      "28\n",
      "29\n",
      "30\n",
      "31\n",
      "32\n",
      "33\n",
      "34\n",
      "35\n",
      "36\n",
      "37\n",
      "38\n",
      "39\n",
      "40\n",
      "41\n",
      "42\n",
      "43\n",
      "44\n",
      "45\n",
      "46\n",
      "47\n",
      "48\n",
      "49\n",
      "50\n",
      "1 11\n",
      "1 14\n",
      "2 7\n",
      "2 11\n",
      "3 4\n",
      "3 9\n",
      "4 3\n",
      "4 9\n",
      "5 32\n",
      "6 8\n",
      "7 2\n",
      "7 42\n",
      "7 44\n",
      "8 6\n",
      "9 3\n",
      "9 4\n",
      "10 11\n",
      "10 15\n",
      "10 33\n",
      "11 2\n",
      "11 15\n",
      "11 16\n",
      "12 7\n",
      "12 42\n",
      "12 44\n",
      "14 1\n",
      "14 10\n",
      "14 11\n",
      "15 10\n",
      "15 11\n",
      "15 16\n",
      "16 11\n",
      "16 15\n",
      "17 18\n",
      "17 19\n",
      "17 21\n",
      "17 22\n",
      "17 24\n",
      "18 19\n",
      "18 35\n",
      "19 11\n",
      "19 24\n",
      "19 26\n",
      "19 30\n",
      "21 22\n",
      "22 17\n",
      "22 21\n",
      "22 31\n",
      "22 34\n",
      "23 24\n",
      "24 17\n",
      "24 19\n",
      "24 21\n",
      "24 22\n",
      "24 23\n",
      "25 22\n",
      "25 31\n",
      "25 32\n",
      "26 7\n",
      "26 29\n",
      "26 44\n",
      "27 28\n",
      "27 29\n",
      "27 30\n",
      "28 27\n",
      "29 26\n",
      "29 30\n",
      "29 33\n",
      "30 11\n",
      "30 26\n",
      "30 29\n",
      "30 33\n",
      "31 21\n",
      "31 25\n",
      "31 32\n",
      "32 5\n",
      "32 21\n",
      "32 31\n",
      "32 37\n",
      "33 10\n",
      "33 30\n",
      "34 31\n",
      "34 37\n",
      "35 18\n",
      "36 38\n",
      "36 41\n",
      "37 31\n",
      "37 32\n",
      "37 34\n",
      "38 36\n",
      "38 41\n",
      "39 43\n",
      "40 45\n",
      "40 46\n",
      "40 47\n",
      "41 36\n",
      "41 38\n",
      "42 7\n",
      "42 44\n",
      "43 22\n",
      "43 39\n",
      "44 7\n",
      "44 42\n",
      "45 40\n",
      "45 46\n",
      "45 47\n",
      "46 40\n",
      "46 45\n",
      "46 49\n",
      "48 46\n",
      "48 49\n",
      "49 46\n",
      "49 48\n"
     ]
    }
   ],
   "source": [
    "for el in root.iter():  # depth-first order\n",
    "    if el.tag == 'node':\n",
    "        print(el.get('id'))\n",
    "    elif el.tag == 'link':\n",
    "        print(el.get('source'), el.get('target'))"
   ]
  },
  {
   "cell_type": "code",
   "execution_count": 46,
   "metadata": {},
   "outputs": [
    {
     "name": "stdout",
     "output_type": "stream",
     "text": [
      "<Element 'DynamicNetwork' at 0x7f78f4721890>\n",
      "<Element 'MetaNetwork' at 0x7f78f4721950>\n",
      "<Element 'documents' at 0x7f78f4721a10>\n",
      "<Element 'nodes' at 0x7f78f4721a70>\n",
      "<Element 'nodeclass' at 0x7f78f4721b30>\n",
      "<Element 'node' at 0x7f78f4721bf0>\n",
      "<Element 'node' at 0x7f78f4721c50>\n",
      "<Element 'node' at 0x7f78f4721cb0>\n",
      "<Element 'node' at 0x7f78f4721d10>\n",
      "<Element 'node' at 0x7f78f4721d70>\n",
      "<Element 'node' at 0x7f78f4721dd0>\n",
      "<Element 'node' at 0x7f78f4721e30>\n",
      "<Element 'node' at 0x7f78f4721e90>\n",
      "<Element 'node' at 0x7f78f4721ef0>\n",
      "<Element 'node' at 0x7f78f4721f50>\n",
      "<Element 'node' at 0x7f78f4721fb0>\n",
      "<Element 'node' at 0x7f78f46fb050>\n",
      "<Element 'node' at 0x7f78f46fb0b0>\n",
      "<Element 'node' at 0x7f78f46fb110>\n",
      "<Element 'node' at 0x7f78f46fb170>\n",
      "<Element 'node' at 0x7f78f46fb1d0>\n",
      "<Element 'node' at 0x7f78f46fb230>\n",
      "<Element 'node' at 0x7f78f46fb290>\n",
      "<Element 'node' at 0x7f78f46fb2f0>\n",
      "<Element 'node' at 0x7f78f46fb350>\n",
      "<Element 'node' at 0x7f78f46fb3b0>\n",
      "<Element 'node' at 0x7f78f46fb410>\n",
      "<Element 'node' at 0x7f78f46fb470>\n",
      "<Element 'node' at 0x7f78f46fb4d0>\n",
      "<Element 'node' at 0x7f78f46fb530>\n",
      "<Element 'node' at 0x7f78f46fb590>\n",
      "<Element 'node' at 0x7f78f46fb5f0>\n",
      "<Element 'node' at 0x7f78f46fb650>\n",
      "<Element 'node' at 0x7f78f46fb6b0>\n",
      "<Element 'node' at 0x7f78f46fb710>\n",
      "<Element 'node' at 0x7f78f46fb770>\n",
      "<Element 'node' at 0x7f78f46fb7d0>\n",
      "<Element 'node' at 0x7f78f46fb830>\n",
      "<Element 'node' at 0x7f78f46fb890>\n",
      "<Element 'node' at 0x7f78f46fb8f0>\n",
      "<Element 'node' at 0x7f78f46fb950>\n",
      "<Element 'node' at 0x7f78f46fb9b0>\n",
      "<Element 'node' at 0x7f78f46fba10>\n",
      "<Element 'node' at 0x7f78f46fba70>\n",
      "<Element 'node' at 0x7f78f46fbad0>\n",
      "<Element 'node' at 0x7f78f46fbb30>\n",
      "<Element 'node' at 0x7f78f46fbb90>\n",
      "<Element 'node' at 0x7f78f46fbbf0>\n",
      "<Element 'node' at 0x7f78f46fbc50>\n",
      "<Element 'node' at 0x7f78f46fbcb0>\n",
      "<Element 'node' at 0x7f78f46fbd10>\n",
      "<Element 'node' at 0x7f78f46fbd70>\n",
      "<Element 'node' at 0x7f78f46fbdd0>\n",
      "<Element 'node' at 0x7f78f46fbe30>\n",
      "<Element 'node' at 0x7f78f46fbe90>\n",
      "<Element 'networks' at 0x7f78f46fbef0>\n",
      "<Element 'network' at 0x7f78f46fbf50>\n",
      "<Element 'link' at 0x7f78f46fbfb0>\n",
      "<Element 'link' at 0x7f78f4701050>\n",
      "<Element 'link' at 0x7f78f47010b0>\n",
      "<Element 'link' at 0x7f78f4701110>\n",
      "<Element 'link' at 0x7f78f4701170>\n",
      "<Element 'link' at 0x7f78f47011d0>\n",
      "<Element 'link' at 0x7f78f4701230>\n",
      "<Element 'link' at 0x7f78f4701290>\n",
      "<Element 'link' at 0x7f78f47012f0>\n",
      "<Element 'link' at 0x7f78f4701350>\n",
      "<Element 'link' at 0x7f78f47013b0>\n",
      "<Element 'link' at 0x7f78f4701410>\n",
      "<Element 'link' at 0x7f78f4701470>\n",
      "<Element 'link' at 0x7f78f47014d0>\n",
      "<Element 'link' at 0x7f78f4701530>\n",
      "<Element 'link' at 0x7f78f4701590>\n",
      "<Element 'link' at 0x7f78f47015f0>\n",
      "<Element 'link' at 0x7f78f4701650>\n",
      "<Element 'link' at 0x7f78f47016b0>\n",
      "<Element 'link' at 0x7f78f4701710>\n",
      "<Element 'link' at 0x7f78f4701770>\n",
      "<Element 'link' at 0x7f78f47017d0>\n",
      "<Element 'link' at 0x7f78f4701830>\n",
      "<Element 'link' at 0x7f78f4701890>\n",
      "<Element 'link' at 0x7f78f47018f0>\n",
      "<Element 'link' at 0x7f78f4701950>\n",
      "<Element 'link' at 0x7f78f47019b0>\n",
      "<Element 'link' at 0x7f78f4701a10>\n",
      "<Element 'link' at 0x7f78f4701a70>\n",
      "<Element 'link' at 0x7f78f4701ad0>\n",
      "<Element 'link' at 0x7f78f4701b30>\n",
      "<Element 'link' at 0x7f78f4701b90>\n",
      "<Element 'link' at 0x7f78f4701bf0>\n",
      "<Element 'link' at 0x7f78f4701c50>\n",
      "<Element 'link' at 0x7f78f4701cb0>\n",
      "<Element 'link' at 0x7f78f4701d10>\n",
      "<Element 'link' at 0x7f78f4701d70>\n",
      "<Element 'link' at 0x7f78f4701dd0>\n",
      "<Element 'link' at 0x7f78f4701e30>\n",
      "<Element 'link' at 0x7f78f4701e90>\n",
      "<Element 'link' at 0x7f78f4701ef0>\n",
      "<Element 'link' at 0x7f78f4701f50>\n",
      "<Element 'link' at 0x7f78f4701fb0>\n",
      "<Element 'link' at 0x7f78f46c8050>\n",
      "<Element 'link' at 0x7f78f46c80b0>\n",
      "<Element 'link' at 0x7f78f46c8110>\n",
      "<Element 'link' at 0x7f78f46c8170>\n",
      "<Element 'link' at 0x7f78f46c81d0>\n",
      "<Element 'link' at 0x7f78f46c8230>\n",
      "<Element 'link' at 0x7f78f46c8290>\n",
      "<Element 'link' at 0x7f78f46c82f0>\n",
      "<Element 'link' at 0x7f78f46c8350>\n",
      "<Element 'link' at 0x7f78f46c83b0>\n",
      "<Element 'link' at 0x7f78f46c8410>\n",
      "<Element 'link' at 0x7f78f46c8470>\n",
      "<Element 'link' at 0x7f78f46c84d0>\n",
      "<Element 'link' at 0x7f78f46c8530>\n",
      "<Element 'link' at 0x7f78f46c8590>\n",
      "<Element 'link' at 0x7f78f46c85f0>\n",
      "<Element 'link' at 0x7f78f46c8650>\n",
      "<Element 'link' at 0x7f78f46c86b0>\n",
      "<Element 'link' at 0x7f78f46c8710>\n",
      "<Element 'link' at 0x7f78f46c8770>\n",
      "<Element 'link' at 0x7f78f46c87d0>\n",
      "<Element 'link' at 0x7f78f46c8830>\n",
      "<Element 'link' at 0x7f78f46c8890>\n",
      "<Element 'link' at 0x7f78f46c88f0>\n",
      "<Element 'link' at 0x7f78f46c8950>\n",
      "<Element 'link' at 0x7f78f46c89b0>\n",
      "<Element 'link' at 0x7f78f46c8a10>\n",
      "<Element 'link' at 0x7f78f46c8a70>\n",
      "<Element 'link' at 0x7f78f46c8ad0>\n",
      "<Element 'link' at 0x7f78f46c8b30>\n",
      "<Element 'link' at 0x7f78f46c8b90>\n",
      "<Element 'link' at 0x7f78f46c8bf0>\n",
      "<Element 'link' at 0x7f78f46c8c50>\n",
      "<Element 'link' at 0x7f78f46c8cb0>\n",
      "<Element 'link' at 0x7f78f46c8d10>\n",
      "<Element 'link' at 0x7f78f46c8d70>\n",
      "<Element 'link' at 0x7f78f46c8dd0>\n",
      "<Element 'link' at 0x7f78f46c8e30>\n",
      "<Element 'link' at 0x7f78f46c8e90>\n",
      "<Element 'link' at 0x7f78f46c8ef0>\n",
      "<Element 'link' at 0x7f78f46c8f50>\n",
      "<Element 'link' at 0x7f78f46c8fb0>\n",
      "<Element 'link' at 0x7f78f46e4050>\n",
      "<Element 'link' at 0x7f78f46e40b0>\n",
      "<Element 'link' at 0x7f78f46e4110>\n",
      "<Element 'link' at 0x7f78f46e4170>\n",
      "<Element 'link' at 0x7f78f46e41d0>\n",
      "<Element 'link' at 0x7f78f46e4230>\n",
      "<Element 'link' at 0x7f78f46e4290>\n",
      "<Element 'link' at 0x7f78f46e42f0>\n",
      "<Element 'link' at 0x7f78f46e4350>\n",
      "<Element 'link' at 0x7f78f46e43b0>\n",
      "<Element 'link' at 0x7f78f46e4410>\n",
      "<Element 'link' at 0x7f78f46e4470>\n",
      "<Element 'link' at 0x7f78f46e44d0>\n",
      "<Element 'link' at 0x7f78f46e4530>\n",
      "<Element 'link' at 0x7f78f46e4590>\n",
      "<Element 'link' at 0x7f78f46e45f0>\n",
      "<Element 'link' at 0x7f78f46e4650>\n",
      "<Element 'link' at 0x7f78f46e46b0>\n",
      "<Element 'link' at 0x7f78f46e4710>\n",
      "<Element 'link' at 0x7f78f46e4770>\n",
      "<Element 'link' at 0x7f78f46e47d0>\n",
      "<Element 'link' at 0x7f78f46e4830>\n",
      "<Element 'link' at 0x7f78f46e4890>\n",
      "<Element 'link' at 0x7f78f4721710>\n",
      "<Element 'link' at 0x7f78f47214d0>\n",
      "<Element 'link' at 0x7f78f47215f0>\n",
      "<Element 'link' at 0x7f78f4721290>\n",
      "<Element 'link' at 0x7f78f81c3590>\n"
     ]
    }
   ],
   "source": [
    "for el in root.iter():\n",
    "    print(el.source, el.target)"
   ]
  },
  {
   "cell_type": "code",
   "execution_count": 48,
   "metadata": {},
   "outputs": [],
   "source": [
    "root.get('source nodes')"
   ]
  },
  {
   "cell_type": "code",
   "execution_count": null,
   "metadata": {},
   "outputs": [],
   "source": []
  }
 ],
 "metadata": {
  "kernelspec": {
   "display_name": "covid_mobility_venv",
   "language": "python",
   "name": "covid_mobility_venv"
  },
  "language_info": {
   "codemirror_mode": {
    "name": "ipython",
    "version": 3
   },
   "file_extension": ".py",
   "mimetype": "text/x-python",
   "name": "python",
   "nbconvert_exporter": "python",
   "pygments_lexer": "ipython3",
   "version": "3.7.4"
  }
 },
 "nbformat": 4,
 "nbformat_minor": 2
}
